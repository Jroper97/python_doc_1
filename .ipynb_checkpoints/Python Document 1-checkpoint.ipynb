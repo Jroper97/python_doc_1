{
 "cells": [
  {
   "cell_type": "markdown",
   "metadata": {},
   "source": [
    "# Week 2 - Monday Lesson (variable assignment, loops, lists)"
   ]
  },
  {
   "cell_type": "markdown",
   "metadata": {},
   "source": [
    "## Tasks Today:\n",
    "\n",
    "1) Int & Float assignments <br>\n",
    " &nbsp;&nbsp;&nbsp;&nbsp; a) Assigning int <br>\n",
    " &nbsp;&nbsp;&nbsp;&nbsp; b) Assigning float <br>\n",
    " &nbsp;&nbsp;&nbsp;&nbsp; c) Performing Calculations on ints and floats <br>\n",
    " &nbsp;&nbsp;&nbsp;&nbsp;&nbsp;&nbsp;&nbsp;&nbsp; - Addition <br>\n",
    " &nbsp;&nbsp;&nbsp;&nbsp;&nbsp;&nbsp;&nbsp;&nbsp; - Subtraction <br>\n",
    " &nbsp;&nbsp;&nbsp;&nbsp;&nbsp;&nbsp;&nbsp;&nbsp; - Multiplication <br>\n",
    " &nbsp;&nbsp;&nbsp;&nbsp;&nbsp;&nbsp;&nbsp;&nbsp; - Division <br>\n",
    " &nbsp;&nbsp;&nbsp;&nbsp;&nbsp;&nbsp;&nbsp;&nbsp; - Floor Division <br>\n",
    " &nbsp;&nbsp;&nbsp;&nbsp;&nbsp;&nbsp;&nbsp;&nbsp; - Modulo <br>\n",
    " &nbsp;&nbsp;&nbsp;&nbsp;&nbsp;&nbsp;&nbsp;&nbsp; - Exponential <br>\n",
    "2) String Input-Output <br>\n",
    " &nbsp;&nbsp;&nbsp;&nbsp; a) String Assignment <br>\n",
    " &nbsp;&nbsp;&nbsp;&nbsp; b) print() <br>\n",
    " &nbsp;&nbsp;&nbsp;&nbsp; c) String Concatenation <br>\n",
    " &nbsp;&nbsp;&nbsp;&nbsp; d) Type Conversion <br>\n",
    " &nbsp;&nbsp;&nbsp;&nbsp; e) input() <br>\n",
    " &nbsp;&nbsp;&nbsp;&nbsp; f) format() <br>\n",
    " &nbsp;&nbsp;&nbsp;&nbsp; g) Old Way (python 2) <br>\n",
    "3) <b>In-Class Exercise #1</b> <br>\n",
    "4) If Statements <br>\n",
    " &nbsp;&nbsp;&nbsp;&nbsp; a) 'is' keyword <br>\n",
    " &nbsp;&nbsp;&nbsp;&nbsp; b) 'in' keyword <br>\n",
    " &nbsp;&nbsp;&nbsp;&nbsp; c) 'not in' keyword <br>\n",
    "5) <b>In-Class Exercise #2</b> <br>\n",
    "6) Elif Statements <br>\n",
    "7) Else Statements <br>\n",
    "8) <b>In-Class Exercise #3</b> <br>\n",
    "9) For Loops <br>\n",
    " &nbsp;&nbsp;&nbsp;&nbsp; a) Using 'in' keyword <br>\n",
    " &nbsp;&nbsp;&nbsp;&nbsp; b) Continue Statement <br>\n",
    " &nbsp;&nbsp;&nbsp;&nbsp; c) Break Statement <br>\n",
    " &nbsp;&nbsp;&nbsp;&nbsp; d) Pass Statement <br>\n",
    " &nbsp;&nbsp;&nbsp;&nbsp; e) Double For Loops <br>\n",
    "10) While Loops <br>\n",
    " &nbsp;&nbsp;&nbsp;&nbsp; a) Looping 'While True' <br>\n",
    " &nbsp;&nbsp;&nbsp;&nbsp; b) While and For Loops Used Together <br>\n",
    "11) Built-In Functions <br>\n",
    " &nbsp;&nbsp;&nbsp;&nbsp; a) range() <br>\n",
    " &nbsp;&nbsp;&nbsp;&nbsp; b) len() <br>\n",
    " &nbsp;&nbsp;&nbsp;&nbsp; c) help() <br>\n",
    " &nbsp;&nbsp;&nbsp;&nbsp; d) isinstance() <br>\n",
    " &nbsp;&nbsp;&nbsp;&nbsp; e) abs() <br>\n",
    "12) Try and Except <br>\n",
    "13) Lists <br>\n",
    " &nbsp;&nbsp;&nbsp;&nbsp; a) Declaring Lists <br>\n",
    " &nbsp;&nbsp;&nbsp;&nbsp; b) Indexing a List <br>\n",
    " &nbsp;&nbsp;&nbsp;&nbsp; c) .append() <br>\n",
    " &nbsp;&nbsp;&nbsp;&nbsp; d) .insert() <br>\n",
    " &nbsp;&nbsp;&nbsp;&nbsp; e) .pop() <br>\n",
    " &nbsp;&nbsp;&nbsp;&nbsp; f) .remove() <br>\n",
    " &nbsp;&nbsp;&nbsp;&nbsp; g) del() <br>\n",
    " &nbsp;&nbsp;&nbsp;&nbsp; h) Concatenating Two Lists <br>\n",
    " &nbsp;&nbsp;&nbsp;&nbsp; i) Lists Within Lists <br>\n",
    " &nbsp;&nbsp;&nbsp;&nbsp; j) Looping Through Lists <br>"
   ]
  },
  {
   "cell_type": "markdown",
   "metadata": {},
   "source": [
    "### Int & Float Assignments"
   ]
  },
  {
   "cell_type": "markdown",
   "metadata": {},
   "source": [
    "##### Assigning int"
   ]
  },
  {
   "cell_type": "code",
   "execution_count": 1,
   "metadata": {},
   "outputs": [
    {
     "name": "stdout",
     "output_type": "stream",
     "text": [
      "6\n"
     ]
    }
   ],
   "source": [
    "number = 6\n",
    "\n",
    "print(number)"
   ]
  },
  {
   "cell_type": "markdown",
   "metadata": {},
   "source": [
    "##### Assinging float"
   ]
  },
  {
   "cell_type": "code",
   "execution_count": 4,
   "metadata": {},
   "outputs": [
    {
     "name": "stdout",
     "output_type": "stream",
     "text": [
      "2.3\n",
      "2.3\n",
      "7.2\n"
     ]
    }
   ],
   "source": [
    "numberFloat = 2.3\n",
    "print(numberFloat)\n",
    "print(numberFloat)\n",
    "numberFloat = 7.2\n",
    "print(numberFloat)"
   ]
  },
  {
   "cell_type": "markdown",
   "metadata": {},
   "source": [
    "#### Performing Calculations on ints and floats"
   ]
  },
  {
   "cell_type": "markdown",
   "metadata": {},
   "source": [
    "##### Addition"
   ]
  },
  {
   "cell_type": "code",
   "execution_count": 6,
   "metadata": {},
   "outputs": [
    {
     "name": "stdout",
     "output_type": "stream",
     "text": [
      "7.4\n",
      "9.4\n"
     ]
    }
   ],
   "source": [
    "num1 = 2\n",
    "num2 = 5.4 \n",
    "\n",
    "result = num1 + num2\n",
    "\n",
    "print(result)\n",
    "\n",
    "result += 2\n",
    "print(result)"
   ]
  },
  {
   "cell_type": "markdown",
   "metadata": {},
   "source": [
    "##### Subtraction"
   ]
  },
  {
   "cell_type": "code",
   "execution_count": 11,
   "metadata": {},
   "outputs": [
    {
     "name": "stdout",
     "output_type": "stream",
     "text": [
      "3.4000000000000004\n",
      "1.4000000000000004\n"
     ]
    }
   ],
   "source": [
    "result_diff = num2- num1\n",
    "print(result_diff)\n",
    "\n",
    "result_diff -= 1\n",
    "print(result_diff - 1)"
   ]
  },
  {
   "cell_type": "markdown",
   "metadata": {},
   "source": [
    "##### Multiplication"
   ]
  },
  {
   "cell_type": "code",
   "execution_count": 13,
   "metadata": {},
   "outputs": [
    {
     "name": "stdout",
     "output_type": "stream",
     "text": [
      "10.8\n",
      "21.6\n"
     ]
    }
   ],
   "source": [
    "result_mul = num1 * num2\n",
    "print(result_mul)\n",
    "\n",
    "result_mul *= 2\n",
    "print(result_mul)"
   ]
  },
  {
   "cell_type": "markdown",
   "metadata": {},
   "source": [
    "##### Division"
   ]
  },
  {
   "cell_type": "code",
   "execution_count": 16,
   "metadata": {},
   "outputs": [
    {
     "name": "stdout",
     "output_type": "stream",
     "text": [
      "2.7\n",
      "0.9\n"
     ]
    }
   ],
   "source": [
    "result_div = num2/num1\n",
    "print(result_div)\n",
    "\n",
    "result_div /= 3\n",
    "print(result_div)"
   ]
  },
  {
   "cell_type": "markdown",
   "metadata": {},
   "source": [
    "##### Floor Division"
   ]
  },
  {
   "cell_type": "code",
   "execution_count": 18,
   "metadata": {},
   "outputs": [
    {
     "name": "stdout",
     "output_type": "stream",
     "text": [
      "2.0\n",
      "1.0\n"
     ]
    }
   ],
   "source": [
    "result_floor = num2 // num1\n",
    "print(result_floor)\n",
    "\n",
    "result_floor //= 2\n",
    "print(result_floor)"
   ]
  },
  {
   "cell_type": "markdown",
   "metadata": {},
   "source": [
    "##### Modulo"
   ]
  },
  {
   "cell_type": "code",
   "execution_count": 21,
   "metadata": {},
   "outputs": [
    {
     "name": "stdout",
     "output_type": "stream",
     "text": [
      "1\n",
      "1\n"
     ]
    }
   ],
   "source": [
    "result_mod = 13 % 2\n",
    "print(result_mod)\n",
    "\n",
    "result_mod %= 2\n",
    "print(result_mod)"
   ]
  },
  {
   "cell_type": "markdown",
   "metadata": {},
   "source": [
    "##### Exponential"
   ]
  },
  {
   "cell_type": "code",
   "execution_count": 23,
   "metadata": {},
   "outputs": [
    {
     "name": "stdout",
     "output_type": "stream",
     "text": [
      "25\n",
      "625\n"
     ]
    }
   ],
   "source": [
    "square = 5 ** 2\n",
    "print(square)\n",
    "\n",
    "square **= 2\n",
    "print(square)"
   ]
  },
  {
   "cell_type": "markdown",
   "metadata": {},
   "source": [
    "### String Input-Output"
   ]
  },
  {
   "cell_type": "markdown",
   "metadata": {},
   "source": [
    "##### String Assignment"
   ]
  },
  {
   "cell_type": "code",
   "execution_count": 27,
   "metadata": {},
   "outputs": [
    {
     "name": "stdout",
     "output_type": "stream",
     "text": [
      "Brandon\n"
     ]
    }
   ],
   "source": [
    "name = \"Brandon\"\n",
    "print(name)"
   ]
  },
  {
   "cell_type": "markdown",
   "metadata": {},
   "source": [
    "##### print() <br>\n",
    "<p>Don't forget about end=' '</p>"
   ]
  },
  {
   "cell_type": "code",
   "execution_count": 32,
   "metadata": {},
   "outputs": [
    {
     "name": "stdout",
     "output_type": "stream",
     "text": [
      "This is my first name: Brandon\n",
      "Full Name:  Brandon Apol"
     ]
    }
   ],
   "source": [
    "print(\"This is my first name:\",name)\n",
    "\n",
    "print(\"Full Name: \", name, end=' Apol')"
   ]
  },
  {
   "cell_type": "markdown",
   "metadata": {},
   "source": [
    "##### String Concatenation"
   ]
  },
  {
   "cell_type": "code",
   "execution_count": 34,
   "metadata": {},
   "outputs": [
    {
     "name": "stdout",
     "output_type": "stream",
     "text": [
      "John Smith\n",
      "John Smith, Jr\n"
     ]
    }
   ],
   "source": [
    "first_name = \"John\"\n",
    "last_name = \"Smith\"\n",
    "\n",
    "full_name = first_name + \" \" + last_name\n",
    "print(full_name)\n",
    "\n",
    "full_name += \", Jr\"\n",
    "print(full_name)"
   ]
  },
  {
   "cell_type": "markdown",
   "metadata": {},
   "source": [
    "##### Type Conversion"
   ]
  },
  {
   "cell_type": "code",
   "execution_count": 36,
   "metadata": {},
   "outputs": [
    {
     "name": "stdout",
     "output_type": "stream",
     "text": [
      "32\n",
      "33\n"
     ]
    }
   ],
   "source": [
    "number = \"32\"\n",
    "\n",
    "change_type_num = int(number)\n",
    "print(number)\n",
    "print(change_type_num + 1)"
   ]
  },
  {
   "cell_type": "markdown",
   "metadata": {},
   "source": [
    "##### input()"
   ]
  },
  {
   "cell_type": "code",
   "execution_count": 40,
   "metadata": {},
   "outputs": [
    {
     "name": "stdout",
     "output_type": "stream",
     "text": [
      "What is your age? 78\n",
      "83\n"
     ]
    }
   ],
   "source": [
    "# input will always return a string\n",
    "\n",
    "# name = input(\"What is your name? \")\n",
    "# print(\"Nice to meet you, \" + name)\n",
    "\n",
    "age = int(input(\"What is your age? \"))\n",
    "add_age = age + 5\n",
    "print(add_age)"
   ]
  },
  {
   "cell_type": "markdown",
   "metadata": {},
   "source": [
    "##### format()"
   ]
  },
  {
   "cell_type": "code",
   "execution_count": 44,
   "metadata": {},
   "outputs": [
    {
     "name": "stdout",
     "output_type": "stream",
     "text": [
      "What is your age? 12\n",
      "You are 12 Jewel and you are getting wiser!\n",
      "12 is a great time in life!!!\n"
     ]
    }
   ],
   "source": [
    "age = input(\"What is your age? \")\n",
    "\n",
    "result_string = \"You are {} {} and you are getting wiser!\".format(age, name)\n",
    "print(result_string)\n",
    "\n",
    "result_again = f\"{age} is a great time in life!!!\"\n",
    "print(result_again)"
   ]
  },
  {
   "cell_type": "markdown",
   "metadata": {},
   "source": [
    "##### Old Way (python 2)"
   ]
  },
  {
   "cell_type": "code",
   "execution_count": 45,
   "metadata": {},
   "outputs": [
    {
     "name": "stdout",
     "output_type": "stream",
     "text": [
      "You are 12 and you look great for your age!\n"
     ]
    }
   ],
   "source": [
    "result_string2 = \"You are %s and you look great for your age!\" %age\n",
    "print(result_string2)"
   ]
  },
  {
   "cell_type": "markdown",
   "metadata": {},
   "source": [
    "# In-Class Exercise 1 <br>\n",
    "<p>Create a format statement that asks for color, year, make, model and prints out the results</p>"
   ]
  },
  {
   "cell_type": "code",
   "execution_count": 47,
   "metadata": {},
   "outputs": [
    {
     "name": "stdout",
     "output_type": "stream",
     "text": [
      "What is the color of your car? black\n",
      "What is the year of your car? 2017\n",
      "What is the make of your car? Chevy\n",
      "What is the model of your car? Malibu\n",
      "You have a Chevy car, the color is black and the year and model is 2017 Malibu\n"
     ]
    }
   ],
   "source": [
    "color = input(\"What is the color of your car? \")\n",
    "year = input(\"What is the year of your car? \")\n",
    "make = input(\"What is the make of your car? \")\n",
    "model = input(\"What is the model of your car? \")\n",
    "\n",
    "results = \"You have a {} car, the color is {} and the year and model is {} {}\".format(make, color, year, model)\n",
    "print(results)"
   ]
  },
  {
   "cell_type": "markdown",
   "metadata": {},
   "source": [
    "### If Statements"
   ]
  },
  {
   "cell_type": "code",
   "execution_count": 23,
   "metadata": {},
   "outputs": [
    {
     "name": "stdout",
     "output_type": "stream",
     "text": [
      "This ran\n"
     ]
    }
   ],
   "source": [
    "# Available operators: Greater(>), Less(<),Equal(==)\n",
    "# Greater or Equal(>=), Less or Equal (<=)\n",
    "\n",
    "# Truth Tree:\n",
    "# T && F = F\n",
    "# T && T = T\n",
    "# T || F = T\n",
    "# F || T = T\n",
    "# F || F = F\n",
    "\n",
    "num1 = 5\n",
    "num2 = 10\n",
    "num3 = 1\n",
    "\n",
    "# if num1 == num2:\n",
    "#     print(\"Equal values\")\n",
    "# else:\n",
    "#     print(\"Not equal values\")\n",
    "    \n",
    "if num2 <num1 or num3 > 0:\n",
    "    print(\"This ran\")\n",
    "else:\n",
    "    print(\"You are here\")"
   ]
  },
  {
   "cell_type": "markdown",
   "metadata": {},
   "source": [
    "##### 'is' keyword"
   ]
  },
  {
   "cell_type": "code",
   "execution_count": 27,
   "metadata": {
    "scrolled": true
   },
   "outputs": [
    {
     "name": "stdout",
     "output_type": "stream",
     "text": [
      "This is the exact number/object\n"
     ]
    }
   ],
   "source": [
    "# The 'is' keyword is for checking for the same object but not the same value\n",
    "\n",
    "num3 = 55 \n",
    "\n",
    "if num3 == 55:\n",
    "    print(\"This is the exact number/object\")"
   ]
  },
  {
   "cell_type": "markdown",
   "metadata": {},
   "source": [
    "##### 'in' keyword"
   ]
  },
  {
   "cell_type": "code",
   "execution_count": 30,
   "metadata": {},
   "outputs": [
    {
     "name": "stdout",
     "output_type": "stream",
     "text": [
      "the ring bearer\n"
     ]
    }
   ],
   "source": [
    "# check if a character is in a string\n",
    "\n",
    "char_name = \"Frodo Baggins\"\n",
    "\n",
    "if \"Frodo\" in char_name:\n",
    "    print(\"the ring bearer\")"
   ]
  },
  {
   "cell_type": "markdown",
   "metadata": {},
   "source": [
    "##### 'not in' keyword'"
   ]
  },
  {
   "cell_type": "code",
   "execution_count": 31,
   "metadata": {},
   "outputs": [
    {
     "name": "stdout",
     "output_type": "stream",
     "text": [
      "a is not here...\n"
     ]
    }
   ],
   "source": [
    "sega_char = \"Sonic\"\n",
    "\n",
    "if 'a' not in sega_char:\n",
    "    print(\"a is not here...\")"
   ]
  },
  {
   "cell_type": "markdown",
   "metadata": {},
   "source": [
    "# In-Class Exercise 2 <br>\n",
    "<p>Ask user for input, check to see if the letter 'p' is in the input</p>"
   ]
  },
  {
   "cell_type": "code",
   "execution_count": 33,
   "metadata": {},
   "outputs": [
    {
     "name": "stdout",
     "output_type": "stream",
     "text": [
      "What is your name? pennywise\n",
      "Your name has a 'p' in it.\n"
     ]
    }
   ],
   "source": [
    "# OUTPUT: True -- if p is found\n",
    "# False -- if p is NOT found\n",
    "\n",
    "name = input(\"What is your name? \")\n",
    "\n",
    "if \"p\" in name:\n",
    "    print(\"Your name has a 'p' in it.\")"
   ]
  },
  {
   "cell_type": "markdown",
   "metadata": {},
   "source": [
    "## Using 'and'/'or' with If Statements"
   ]
  },
  {
   "cell_type": "code",
   "execution_count": 37,
   "metadata": {},
   "outputs": [
    {
     "name": "stdout",
     "output_type": "stream",
     "text": [
      "True and True\n",
      "False and True\n"
     ]
    }
   ],
   "source": [
    "num_11 = 15\n",
    "num_12 = 3\n",
    "num_13 = 10\n",
    "num_14 = 3\n",
    "\n",
    "# If with 'and' statement\n",
    "if num_11 / 5 == num_12 and num_13 - 7 == num_14:\n",
    "    print(\"True and True\")\n",
    "    \n",
    "# If with 'or'statement\n",
    "if num_13 > num_14 or num_12 > num_12:\n",
    "    print(\"False and True\")"
   ]
  },
  {
   "cell_type": "markdown",
   "metadata": {},
   "source": [
    "### Elif Statements"
   ]
  },
  {
   "cell_type": "code",
   "execution_count": 41,
   "metadata": {},
   "outputs": [
    {
     "name": "stdout",
     "output_type": "stream",
     "text": [
      "What is your name? Max\n",
      "The name is Max\n"
     ]
    }
   ],
   "source": [
    "first_name = input(\"What is your name? \")\n",
    "\n",
    "if first_name == \"Smith\":\n",
    "    print(\"The name is Smith.\")\n",
    "elif first_name == \"Brandon\":\n",
    "    print(\"The name is Brandon\")\n",
    "elif first_name != \"Max\":\n",
    "    print(\"The name is NOT Max\")\n",
    "else:\n",
    "    print(\"The name is Max\")"
   ]
  },
  {
   "cell_type": "markdown",
   "metadata": {},
   "source": [
    "Else Statements"
   ]
  },
  {
   "cell_type": "code",
   "execution_count": null,
   "metadata": {},
   "outputs": [],
   "source": [
    "# see above"
   ]
  },
  {
   "cell_type": "markdown",
   "metadata": {},
   "source": [
    "### For Loops"
   ]
  },
  {
   "cell_type": "code",
   "execution_count": 44,
   "metadata": {},
   "outputs": [
    {
     "name": "stdout",
     "output_type": "stream",
     "text": [
      "1\n",
      "2\n",
      "3\n",
      "4\n"
     ]
    }
   ],
   "source": [
    "# Syntax:\n",
    "# for counter in condition\n",
    "\n",
    "name = \"Brandon Apol\"\n",
    "a_list = [1, 2, 3, 4]\n",
    "\n",
    "for i in a_list:\n",
    "    print(i)"
   ]
  },
  {
   "cell_type": "markdown",
   "metadata": {},
   "source": [
    "##### Using 'in' keyword"
   ]
  },
  {
   "cell_type": "code",
   "execution_count": null,
   "metadata": {},
   "outputs": [],
   "source": [
    "# see above"
   ]
  },
  {
   "cell_type": "markdown",
   "metadata": {},
   "source": [
    "##### Continue Statement"
   ]
  },
  {
   "cell_type": "code",
   "execution_count": null,
   "metadata": {},
   "outputs": [],
   "source": [
    "# will continue to next iteration"
   ]
  },
  {
   "cell_type": "code",
   "execution_count": 47,
   "metadata": {},
   "outputs": [
    {
     "name": "stdout",
     "output_type": "stream",
     "text": [
      "B\n",
      "r\n",
      "n\n",
      "d\n",
      "o\n",
      "n\n",
      " \n",
      "A\n",
      "p\n",
      "o\n",
      "l\n"
     ]
    }
   ],
   "source": [
    "name = \"Brandon Apol\"\n",
    "\n",
    "for i in name:\n",
    "    if i == \"a\":\n",
    "        continue\n",
    "    print(i)"
   ]
  },
  {
   "cell_type": "markdown",
   "metadata": {},
   "source": [
    "##### Break Statement"
   ]
  },
  {
   "cell_type": "code",
   "execution_count": null,
   "metadata": {},
   "outputs": [],
   "source": [
    "# will break out of current loop"
   ]
  },
  {
   "cell_type": "code",
   "execution_count": 49,
   "metadata": {},
   "outputs": [
    {
     "name": "stdout",
     "output_type": "stream",
     "text": [
      "0\n",
      "1\n",
      "2\n",
      "3\n",
      "4\n"
     ]
    }
   ],
   "source": [
    "for i in range(20):\n",
    "    if i == 5:\n",
    "        break\n",
    "    print(i)"
   ]
  },
  {
   "cell_type": "markdown",
   "metadata": {},
   "source": [
    "##### Pass Statement"
   ]
  },
  {
   "cell_type": "code",
   "execution_count": null,
   "metadata": {},
   "outputs": [],
   "source": [
    "# mostly used as a placeholder, and will continue on same iteration"
   ]
  },
  {
   "cell_type": "code",
   "execution_count": 50,
   "metadata": {},
   "outputs": [],
   "source": [
    "name = \"Brandon Apol\"\n",
    "for i in name:\n",
    "    pass"
   ]
  },
  {
   "cell_type": "markdown",
   "metadata": {},
   "source": [
    "##### Double For Loops"
   ]
  },
  {
   "cell_type": "code",
   "execution_count": 51,
   "metadata": {},
   "outputs": [
    {
     "name": "stdout",
     "output_type": "stream",
     "text": [
      "i =  0 j =  0\n",
      "i =  0 j =  1\n",
      "i =  0 j =  2\n",
      "i =  0 j =  3\n",
      "i =  0 j =  4\n",
      "i =  1 j =  0\n",
      "i =  1 j =  1\n",
      "i =  1 j =  2\n",
      "i =  1 j =  3\n",
      "i =  1 j =  4\n",
      "i =  2 j =  0\n",
      "i =  2 j =  1\n",
      "i =  2 j =  2\n",
      "i =  2 j =  3\n",
      "i =  2 j =  4\n",
      "i =  3 j =  0\n",
      "i =  3 j =  1\n",
      "i =  3 j =  2\n",
      "i =  3 j =  3\n",
      "i =  3 j =  4\n",
      "i =  4 j =  0\n",
      "i =  4 j =  1\n",
      "i =  4 j =  2\n",
      "i =  4 j =  3\n",
      "i =  4 j =  4\n"
     ]
    }
   ],
   "source": [
    "for i in range(5):\n",
    "    for j in range(5):\n",
    "        print(\"i = \", i, \"j = \", j)"
   ]
  },
  {
   "cell_type": "markdown",
   "metadata": {},
   "source": [
    "### While Loops"
   ]
  },
  {
   "cell_type": "code",
   "execution_count": 52,
   "metadata": {},
   "outputs": [
    {
     "name": "stdout",
     "output_type": "stream",
     "text": [
      "0\n",
      "1\n",
      "2\n",
      "3\n",
      "4\n",
      "5\n",
      "6\n",
      "7\n",
      "8\n",
      "9\n"
     ]
    }
   ],
   "source": [
    "# syntax;\n",
    "# while keyboard, condition statement\n",
    "\n",
    "num = 0\n",
    "\n",
    "while num < 10:\n",
    "    print(num)\n",
    "    num += 1"
   ]
  },
  {
   "cell_type": "markdown",
   "metadata": {},
   "source": [
    "##### Looping 'While True'"
   ]
  },
  {
   "cell_type": "code",
   "execution_count": 57,
   "metadata": {},
   "outputs": [
    {
     "name": "stdout",
     "output_type": "stream",
     "text": [
      "Infinity loop\n",
      "Would you like to stop? yes\n",
      "Infinity loop\n",
      "Would you like to stop? no\n",
      "Infinity loop\n"
     ]
    },
    {
     "ename": "KeyboardInterrupt",
     "evalue": "Interrupted by user",
     "output_type": "error",
     "traceback": [
      "\u001b[1;31m---------------------------------------------------------------------------\u001b[0m",
      "\u001b[1;31mKeyboardInterrupt\u001b[0m                         Traceback (most recent call last)",
      "Cell \u001b[1;32mIn[57], line 5\u001b[0m\n\u001b[0;32m      3\u001b[0m \u001b[38;5;28;01mwhile\u001b[39;00m game_over:\n\u001b[0;32m      4\u001b[0m     \u001b[38;5;28mprint\u001b[39m(\u001b[38;5;124m\"\u001b[39m\u001b[38;5;124mInfinity loop\u001b[39m\u001b[38;5;124m\"\u001b[39m)\n\u001b[1;32m----> 5\u001b[0m     user_input \u001b[38;5;241m=\u001b[39m \u001b[38;5;28;43minput\u001b[39;49m\u001b[43m(\u001b[49m\u001b[38;5;124;43m\"\u001b[39;49m\u001b[38;5;124;43mWould you like to stop? \u001b[39;49m\u001b[38;5;124;43m\"\u001b[39;49m\u001b[43m)\u001b[49m\n\u001b[0;32m      6\u001b[0m     \u001b[38;5;28;01mif\u001b[39;00m user_input \u001b[38;5;241m==\u001b[39m \u001b[38;5;124m\"\u001b[39m\u001b[38;5;124mYes\u001b[39m\u001b[38;5;124m\"\u001b[39m:\n\u001b[0;32m      7\u001b[0m         game_over \u001b[38;5;241m=\u001b[39m \u001b[38;5;28;01mFalse\u001b[39;00m\n",
      "File \u001b[1;32m~\\anaconda3\\lib\\site-packages\\ipykernel\\kernelbase.py:1175\u001b[0m, in \u001b[0;36mKernel.raw_input\u001b[1;34m(self, prompt)\u001b[0m\n\u001b[0;32m   1171\u001b[0m \u001b[38;5;28;01mif\u001b[39;00m \u001b[38;5;129;01mnot\u001b[39;00m \u001b[38;5;28mself\u001b[39m\u001b[38;5;241m.\u001b[39m_allow_stdin:\n\u001b[0;32m   1172\u001b[0m     \u001b[38;5;28;01mraise\u001b[39;00m StdinNotImplementedError(\n\u001b[0;32m   1173\u001b[0m         \u001b[38;5;124m\"\u001b[39m\u001b[38;5;124mraw_input was called, but this frontend does not support input requests.\u001b[39m\u001b[38;5;124m\"\u001b[39m\n\u001b[0;32m   1174\u001b[0m     )\n\u001b[1;32m-> 1175\u001b[0m \u001b[38;5;28;01mreturn\u001b[39;00m \u001b[38;5;28;43mself\u001b[39;49m\u001b[38;5;241;43m.\u001b[39;49m\u001b[43m_input_request\u001b[49m\u001b[43m(\u001b[49m\n\u001b[0;32m   1176\u001b[0m \u001b[43m    \u001b[49m\u001b[38;5;28;43mstr\u001b[39;49m\u001b[43m(\u001b[49m\u001b[43mprompt\u001b[49m\u001b[43m)\u001b[49m\u001b[43m,\u001b[49m\n\u001b[0;32m   1177\u001b[0m \u001b[43m    \u001b[49m\u001b[38;5;28;43mself\u001b[39;49m\u001b[38;5;241;43m.\u001b[39;49m\u001b[43m_parent_ident\u001b[49m\u001b[43m[\u001b[49m\u001b[38;5;124;43m\"\u001b[39;49m\u001b[38;5;124;43mshell\u001b[39;49m\u001b[38;5;124;43m\"\u001b[39;49m\u001b[43m]\u001b[49m\u001b[43m,\u001b[49m\n\u001b[0;32m   1178\u001b[0m \u001b[43m    \u001b[49m\u001b[38;5;28;43mself\u001b[39;49m\u001b[38;5;241;43m.\u001b[39;49m\u001b[43mget_parent\u001b[49m\u001b[43m(\u001b[49m\u001b[38;5;124;43m\"\u001b[39;49m\u001b[38;5;124;43mshell\u001b[39;49m\u001b[38;5;124;43m\"\u001b[39;49m\u001b[43m)\u001b[49m\u001b[43m,\u001b[49m\n\u001b[0;32m   1179\u001b[0m \u001b[43m    \u001b[49m\u001b[43mpassword\u001b[49m\u001b[38;5;241;43m=\u001b[39;49m\u001b[38;5;28;43;01mFalse\u001b[39;49;00m\u001b[43m,\u001b[49m\n\u001b[0;32m   1180\u001b[0m \u001b[43m\u001b[49m\u001b[43m)\u001b[49m\n",
      "File \u001b[1;32m~\\anaconda3\\lib\\site-packages\\ipykernel\\kernelbase.py:1217\u001b[0m, in \u001b[0;36mKernel._input_request\u001b[1;34m(self, prompt, ident, parent, password)\u001b[0m\n\u001b[0;32m   1214\u001b[0m             \u001b[38;5;28;01mbreak\u001b[39;00m\n\u001b[0;32m   1215\u001b[0m \u001b[38;5;28;01mexcept\u001b[39;00m \u001b[38;5;167;01mKeyboardInterrupt\u001b[39;00m:\n\u001b[0;32m   1216\u001b[0m     \u001b[38;5;66;03m# re-raise KeyboardInterrupt, to truncate traceback\u001b[39;00m\n\u001b[1;32m-> 1217\u001b[0m     \u001b[38;5;28;01mraise\u001b[39;00m \u001b[38;5;167;01mKeyboardInterrupt\u001b[39;00m(\u001b[38;5;124m\"\u001b[39m\u001b[38;5;124mInterrupted by user\u001b[39m\u001b[38;5;124m\"\u001b[39m) \u001b[38;5;28;01mfrom\u001b[39;00m \u001b[38;5;28mNone\u001b[39m\n\u001b[0;32m   1218\u001b[0m \u001b[38;5;28;01mexcept\u001b[39;00m \u001b[38;5;167;01mException\u001b[39;00m:\n\u001b[0;32m   1219\u001b[0m     \u001b[38;5;28mself\u001b[39m\u001b[38;5;241m.\u001b[39mlog\u001b[38;5;241m.\u001b[39mwarning(\u001b[38;5;124m\"\u001b[39m\u001b[38;5;124mInvalid Message:\u001b[39m\u001b[38;5;124m\"\u001b[39m, exc_info\u001b[38;5;241m=\u001b[39m\u001b[38;5;28;01mTrue\u001b[39;00m)\n",
      "\u001b[1;31mKeyboardInterrupt\u001b[0m: Interrupted by user"
     ]
    }
   ],
   "source": [
    "game_over = True\n",
    "\n",
    "while game_over:\n",
    "    print(\"Infinity loop\")\n",
    "    user_input = input(\"Would you like to stop? \")\n",
    "    if user_input == \"Yes\":\n",
    "        game_over = False"
   ]
  },
  {
   "cell_type": "markdown",
   "metadata": {},
   "source": [
    "##### While & For Loops Used Together"
   ]
  },
  {
   "cell_type": "code",
   "execution_count": 58,
   "metadata": {},
   "outputs": [
    {
     "name": "stdout",
     "output_type": "stream",
     "text": [
      "\n",
      " While loop iteration: 0\n",
      "For loop iteration  0\n",
      "For loop iteration  1\n",
      "\n",
      " While loop iteration: 1\n",
      "For loop iteration  0\n",
      "For loop iteration  1\n",
      "\n",
      " While loop iteration: 2\n",
      "For loop iteration  0\n",
      "For loop iteration  1\n",
      "\n",
      " While loop iteration: 3\n",
      "For loop iteration  0\n",
      "For loop iteration  1\n",
      "\n",
      " While loop iteration: 4\n",
      "For loop iteration  0\n",
      "For loop iteration  1\n"
     ]
    }
   ],
   "source": [
    "num = 0\n",
    "\n",
    "while num < 5:\n",
    "    print(\"\\n While loop iteration: \" + str(num))\n",
    "    \n",
    "    for i in range(2):\n",
    "        print(\"For loop iteration \", str(i))\n",
    "        \n",
    "    num += 1"
   ]
  },
  {
   "cell_type": "markdown",
   "metadata": {},
   "source": [
    "### Built-In Functions"
   ]
  },
  {
   "cell_type": "markdown",
   "metadata": {},
   "source": [
    "##### range()"
   ]
  },
  {
   "cell_type": "code",
   "execution_count": 62,
   "metadata": {},
   "outputs": [
    {
     "name": "stdout",
     "output_type": "stream",
     "text": [
      "1\n",
      "4\n",
      "7\n",
      "10\n",
      "13\n",
      "16\n",
      "19\n"
     ]
    }
   ],
   "source": [
    "# range(Start, stop, step)\n",
    "\n",
    "for i in range(1, 20, 3):\n",
    "    print(i), "
   ]
  },
  {
   "cell_type": "markdown",
   "metadata": {},
   "source": [
    "##### len()"
   ]
  },
  {
   "cell_type": "code",
   "execution_count": 68,
   "metadata": {},
   "outputs": [
    {
     "name": "stdout",
     "output_type": "stream",
     "text": [
      "Give me the name of your favorite book: Skeleton Creek\n",
      "14\n"
     ]
    }
   ],
   "source": [
    "name = input('Give me the name of your favorite book: ')\n",
    "\n",
    "length = len(name)\n",
    "print(length)"
   ]
  },
  {
   "cell_type": "markdown",
   "metadata": {},
   "source": [
    "##### help()"
   ]
  },
  {
   "cell_type": "code",
   "execution_count": 70,
   "metadata": {},
   "outputs": [
    {
     "name": "stdout",
     "output_type": "stream",
     "text": [
      "Help on built-in function len in module builtins:\n",
      "\n",
      "len(obj, /)\n",
      "    Return the number of items in a container.\n",
      "\n"
     ]
    }
   ],
   "source": [
    "# Use this function to view more info about a python function\n",
    "help(len)"
   ]
  },
  {
   "cell_type": "markdown",
   "metadata": {},
   "source": [
    "##### isinstance()"
   ]
  },
  {
   "cell_type": "code",
   "execution_count": 78,
   "metadata": {},
   "outputs": [
    {
     "name": "stdout",
     "output_type": "stream",
     "text": [
      "4.5 is a float!\n"
     ]
    }
   ],
   "source": [
    "# Check a variable to find out what object family (or data type) it belongs to \n",
    "# isinstance(var, type)\n",
    "num = 4.5\n",
    "if isinstance(num, int):\n",
    "    print(f\"{num} is an int\")\n",
    "else:\n",
    "    print(f\"{num} is a float!\")"
   ]
  },
  {
   "cell_type": "markdown",
   "metadata": {},
   "source": [
    "abs()"
   ]
  },
  {
   "cell_type": "code",
   "execution_count": 79,
   "metadata": {},
   "outputs": [
    {
     "name": "stdout",
     "output_type": "stream",
     "text": [
      "5\n"
     ]
    }
   ],
   "source": [
    "# |-5| = 5\n",
    "\n",
    "print(abs(-5))"
   ]
  },
  {
   "cell_type": "markdown",
   "metadata": {},
   "source": [
    "### Try and Except"
   ]
  },
  {
   "cell_type": "code",
   "execution_count": 84,
   "metadata": {},
   "outputs": [
    {
     "name": "stdout",
     "output_type": "stream",
     "text": [
      "Guess a number 5\n",
      "Your number is 5\n"
     ]
    }
   ],
   "source": [
    "# use this to log out graceful and useful error messages\n",
    "# does not stop the program! neato!\n",
    "\n",
    "try:\n",
    "    input_num = int(input(\"Guess a number \"))\n",
    "    print(\"Your number is \" + str(input_num))\n",
    "except:\n",
    "    print(\"That didn't work! Change your input to a number!\")"
   ]
  },
  {
   "cell_type": "markdown",
   "metadata": {},
   "source": [
    "### Lists"
   ]
  },
  {
   "cell_type": "markdown",
   "metadata": {},
   "source": [
    "##### Declaring Lists"
   ]
  },
  {
   "cell_type": "code",
   "execution_count": 87,
   "metadata": {},
   "outputs": [
    {
     "name": "stdout",
     "output_type": "stream",
     "text": [
      "['Max', 'Cindy', 'Kathy', 'bob', 'Nate']\n"
     ]
    }
   ],
   "source": [
    "list_1 = []\n",
    "\n",
    "names =['Max', 'Cindy', 'Kathy', 'bob', 'Nate']\n",
    "print(names)"
   ]
  },
  {
   "cell_type": "markdown",
   "metadata": {},
   "source": [
    "##### Indexing a List"
   ]
  },
  {
   "cell_type": "code",
   "execution_count": 95,
   "metadata": {},
   "outputs": [
    {
     "name": "stdout",
     "output_type": "stream",
     "text": [
      "Cindy\n",
      "['Cindy', 'Kathy', 'bob', 'Nate']\n",
      "['Max', 'Cindy']\n",
      "['Cindy', 'bob']\n",
      "['Nate', 'bob', 'Kathy', 'Cindy', 'Max']\n"
     ]
    }
   ],
   "source": [
    "# list_name[start, stop, step]\n",
    "\n",
    "# single index\n",
    "print(names[1])\n",
    "\n",
    "# print starting at index 1 going to the end\n",
    "print(names[1:])\n",
    "\n",
    "# print starting at the beginning of a list up until a number\n",
    "print(names[:2])\n",
    "\n",
    "# print starting at index 1 and going up BY 2 in each iteration\n",
    "print(names[1::2])\n",
    "\n",
    "# print starting at the back and display in reverse order\n",
    "print(names[::-1])"
   ]
  },
  {
   "cell_type": "markdown",
   "metadata": {},
   "source": [
    "##### .append()"
   ]
  },
  {
   "cell_type": "code",
   "execution_count": 103,
   "metadata": {},
   "outputs": [
    {
     "name": "stdout",
     "output_type": "stream",
     "text": [
      "['Max', 'Cindy', 'Devin', 'bob', 'Nate', 'brandon', 'brandon', 'brandon']\n"
     ]
    }
   ],
   "source": [
    "names.append('brandon')\n",
    "print(names)"
   ]
  },
  {
   "cell_type": "markdown",
   "metadata": {},
   "source": [
    "##### .insert()"
   ]
  },
  {
   "cell_type": "code",
   "execution_count": 99,
   "metadata": {},
   "outputs": [
    {
     "name": "stdout",
     "output_type": "stream",
     "text": [
      "['Max', 'Cindy', 'Kathy', 'Devin', 'bob', 'Nate', 'brandon']\n"
     ]
    }
   ],
   "source": [
    "names.insert(3, 'Devin')\n",
    "print(names)"
   ]
  },
  {
   "cell_type": "markdown",
   "metadata": {},
   "source": [
    "##### .pop()"
   ]
  },
  {
   "cell_type": "code",
   "execution_count": 100,
   "metadata": {},
   "outputs": [
    {
     "name": "stdout",
     "output_type": "stream",
     "text": [
      "Kathy\n",
      "['Max', 'Cindy', 'Devin', 'bob', 'Nate', 'brandon']\n"
     ]
    }
   ],
   "source": [
    "# default to the last value if no parameter is given\n",
    "# pop returns the element that was removed in case you want to assign it to a variable\n",
    "\n",
    "my_name = names.pop(2)\n",
    "print(my_name)\n",
    "print(names)"
   ]
  },
  {
   "cell_type": "markdown",
   "metadata": {},
   "source": [
    "\n",
    "##### .remove()"
   ]
  },
  {
   "cell_type": "code",
   "execution_count": 105,
   "metadata": {},
   "outputs": [
    {
     "name": "stdout",
     "output_type": "stream",
     "text": [
      "['Max', 'Cindy', 'Devin', 'Nate']\n"
     ]
    }
   ],
   "source": [
    "# value to be removed rather than index\n",
    "# names.remove('bob')\n",
    "# print(names)\n",
    "\n",
    "# remove multiple brandons from list\n",
    "while 'brandon' in names:\n",
    "    names.remove('brandon')\n",
    "print(names)"
   ]
  },
  {
   "cell_type": "markdown",
   "metadata": {},
   "source": [
    "##### del()"
   ]
  },
  {
   "cell_type": "code",
   "execution_count": 106,
   "metadata": {},
   "outputs": [
    {
     "name": "stdout",
     "output_type": "stream",
     "text": [
      "['Max', 'Devin', 'Nate']\n"
     ]
    }
   ],
   "source": [
    "# goes by index, rather than value\n",
    "# be careful with del, it can cause indexing errors if not used carefully\n",
    "\n",
    "del(names[1])\n",
    "print(names)"
   ]
  },
  {
   "cell_type": "markdown",
   "metadata": {},
   "source": [
    "##### Concatenating Two Lists"
   ]
  },
  {
   "cell_type": "code",
   "execution_count": 109,
   "metadata": {},
   "outputs": [
    {
     "name": "stdout",
     "output_type": "stream",
     "text": [
      "[0, 1, 2, 3, 4, 5]\n"
     ]
    }
   ],
   "source": [
    "# Will append two lists together, will NOT add the values!!\n",
    "\n",
    "list_2 = [0, 1, 2]\n",
    "list_3 = [3, 4, 5]\n",
    "\n",
    "large_list = list_2 + list_3\n",
    "print(large_list)"
   ]
  },
  {
   "cell_type": "markdown",
   "metadata": {},
   "source": [
    "##### Lists Within Lists"
   ]
  },
  {
   "cell_type": "code",
   "execution_count": 113,
   "metadata": {},
   "outputs": [
    {
     "name": "stdout",
     "output_type": "stream",
     "text": [
      "['Max', 'sam', 'Josh', ['Sally', ['Sue', 'Jim'], 'Tameka']]\n",
      "Jim\n"
     ]
    }
   ],
   "source": [
    "# lists can hold ANY type of other element! Including other lists!\n",
    "# They can go as deep as you want; this is called nested lists\n",
    "\n",
    "names = [\"Max\", \"sam\", \"Josh\", [\"Sally\", [\"Sue\", \"Jim\"], \"Tameka\"]]\n",
    "print(names)\n",
    "print(names[3][1][1])"
   ]
  },
  {
   "cell_type": "markdown",
   "metadata": {},
   "source": [
    "##### Looping Through Lists"
   ]
  },
  {
   "cell_type": "code",
   "execution_count": 117,
   "metadata": {},
   "outputs": [
    {
     "name": "stdout",
     "output_type": "stream",
     "text": [
      "Max\n",
      "sam\n",
      "Josh\n",
      "['Sally', ['Sue', 'Jim'], 'Tameka']\n",
      "Max\n",
      "sam\n",
      "Josh\n",
      "['Sally', ['Sue', 'Jim'], 'Tameka']\n"
     ]
    }
   ],
   "source": [
    "# two ways to loop through a list! One is by index; the other is by using the 'in' keyword\n",
    "\n",
    "# by index\n",
    "for i in range(len(names)):\n",
    "    print(names[i])\n",
    "    \n",
    "# loop with 'in'\n",
    "for i in names:\n",
    "    print(i)"
   ]
  },
  {
   "cell_type": "markdown",
   "metadata": {},
   "source": [
    "## Exercise #1 <br>\n",
    "<p>Cube Number Test... Print out all cubed numbers up to the total value 1000. Meaning that if the cubed number is over 1000 break the loop.</p>"
   ]
  },
  {
   "cell_type": "code",
   "execution_count": 130,
   "metadata": {},
   "outputs": [
    {
     "name": "stdout",
     "output_type": "stream",
     "text": [
      "1 cubed is 1\n",
      "2 cubed is 8\n",
      "3 cubed is 27\n",
      "4 cubed is 64\n",
      "5 cubed is 125\n",
      "6 cubed is 216\n",
      "7 cubed is 343\n",
      "8 cubed is 512\n",
      "9 cubed is 729\n",
      "10 cubed is 1000\n",
      "11 cubed is 1331\n",
      "12 cubed is 1728\n",
      "13 cubed is 2197\n",
      "14 cubed is 2744\n",
      "15 cubed is 3375\n",
      "16 cubed is 4096\n",
      "17 cubed is 4913\n",
      "18 cubed is 5832\n",
      "19 cubed is 6859\n",
      "20 cubed is 8000\n",
      "21 cubed is 9261\n",
      "22 cubed is 10648\n",
      "23 cubed is 12167\n",
      "24 cubed is 13824\n",
      "25 cubed is 15625\n",
      "26 cubed is 17576\n",
      "27 cubed is 19683\n",
      "28 cubed is 21952\n",
      "29 cubed is 24389\n",
      "30 cubed is 27000\n",
      "31 cubed is 29791\n",
      "32 cubed is 32768\n",
      "33 cubed is 35937\n",
      "34 cubed is 39304\n",
      "35 cubed is 42875\n",
      "36 cubed is 46656\n",
      "37 cubed is 50653\n",
      "38 cubed is 54872\n",
      "39 cubed is 59319\n",
      "40 cubed is 64000\n",
      "41 cubed is 68921\n",
      "42 cubed is 74088\n",
      "43 cubed is 79507\n",
      "44 cubed is 85184\n",
      "45 cubed is 91125\n",
      "46 cubed is 97336\n",
      "47 cubed is 103823\n",
      "48 cubed is 110592\n",
      "49 cubed is 117649\n",
      "50 cubed is 125000\n",
      "51 cubed is 132651\n",
      "52 cubed is 140608\n",
      "53 cubed is 148877\n",
      "54 cubed is 157464\n",
      "55 cubed is 166375\n",
      "56 cubed is 175616\n",
      "57 cubed is 185193\n",
      "58 cubed is 195112\n",
      "59 cubed is 205379\n",
      "60 cubed is 216000\n",
      "61 cubed is 226981\n",
      "62 cubed is 238328\n",
      "63 cubed is 250047\n",
      "64 cubed is 262144\n",
      "65 cubed is 274625\n",
      "66 cubed is 287496\n",
      "67 cubed is 300763\n",
      "68 cubed is 314432\n",
      "69 cubed is 328509\n",
      "70 cubed is 343000\n",
      "71 cubed is 357911\n",
      "72 cubed is 373248\n",
      "73 cubed is 389017\n",
      "74 cubed is 405224\n",
      "75 cubed is 421875\n",
      "76 cubed is 438976\n",
      "77 cubed is 456533\n",
      "78 cubed is 474552\n",
      "79 cubed is 493039\n",
      "80 cubed is 512000\n",
      "81 cubed is 531441\n",
      "82 cubed is 551368\n",
      "83 cubed is 571787\n",
      "84 cubed is 592704\n",
      "85 cubed is 614125\n",
      "86 cubed is 636056\n",
      "87 cubed is 658503\n",
      "88 cubed is 681472\n",
      "89 cubed is 704969\n",
      "90 cubed is 729000\n",
      "91 cubed is 753571\n",
      "92 cubed is 778688\n",
      "93 cubed is 804357\n",
      "94 cubed is 830584\n",
      "95 cubed is 857375\n",
      "96 cubed is 884736\n",
      "97 cubed is 912673\n",
      "98 cubed is 941192\n",
      "99 cubed is 970299\n",
      "100 cubed is 1000000\n",
      "101 cubed is 1030301\n",
      "102 cubed is 1061208\n",
      "103 cubed is 1092727\n",
      "104 cubed is 1124864\n",
      "105 cubed is 1157625\n",
      "106 cubed is 1191016\n",
      "107 cubed is 1225043\n",
      "108 cubed is 1259712\n",
      "109 cubed is 1295029\n",
      "110 cubed is 1331000\n",
      "111 cubed is 1367631\n",
      "112 cubed is 1404928\n",
      "113 cubed is 1442897\n",
      "114 cubed is 1481544\n",
      "115 cubed is 1520875\n",
      "116 cubed is 1560896\n",
      "117 cubed is 1601613\n",
      "118 cubed is 1643032\n",
      "119 cubed is 1685159\n",
      "120 cubed is 1728000\n",
      "121 cubed is 1771561\n",
      "122 cubed is 1815848\n",
      "123 cubed is 1860867\n",
      "124 cubed is 1906624\n",
      "125 cubed is 1953125\n",
      "126 cubed is 2000376\n",
      "127 cubed is 2048383\n",
      "128 cubed is 2097152\n",
      "129 cubed is 2146689\n",
      "130 cubed is 2197000\n",
      "131 cubed is 2248091\n",
      "132 cubed is 2299968\n",
      "133 cubed is 2352637\n",
      "134 cubed is 2406104\n",
      "135 cubed is 2460375\n",
      "136 cubed is 2515456\n",
      "137 cubed is 2571353\n",
      "138 cubed is 2628072\n",
      "139 cubed is 2685619\n",
      "140 cubed is 2744000\n",
      "141 cubed is 2803221\n",
      "142 cubed is 2863288\n",
      "143 cubed is 2924207\n",
      "144 cubed is 2985984\n",
      "145 cubed is 3048625\n",
      "146 cubed is 3112136\n",
      "147 cubed is 3176523\n",
      "148 cubed is 3241792\n",
      "149 cubed is 3307949\n",
      "150 cubed is 3375000\n",
      "151 cubed is 3442951\n",
      "152 cubed is 3511808\n",
      "153 cubed is 3581577\n",
      "154 cubed is 3652264\n",
      "155 cubed is 3723875\n",
      "156 cubed is 3796416\n",
      "157 cubed is 3869893\n",
      "158 cubed is 3944312\n",
      "159 cubed is 4019679\n",
      "160 cubed is 4096000\n",
      "161 cubed is 4173281\n",
      "162 cubed is 4251528\n",
      "163 cubed is 4330747\n",
      "164 cubed is 4410944\n",
      "165 cubed is 4492125\n",
      "166 cubed is 4574296\n",
      "167 cubed is 4657463\n",
      "168 cubed is 4741632\n",
      "169 cubed is 4826809\n",
      "170 cubed is 4913000\n",
      "171 cubed is 5000211\n",
      "172 cubed is 5088448\n",
      "173 cubed is 5177717\n",
      "174 cubed is 5268024\n",
      "175 cubed is 5359375\n",
      "176 cubed is 5451776\n",
      "177 cubed is 5545233\n",
      "178 cubed is 5639752\n",
      "179 cubed is 5735339\n",
      "180 cubed is 5832000\n",
      "181 cubed is 5929741\n",
      "182 cubed is 6028568\n",
      "183 cubed is 6128487\n",
      "184 cubed is 6229504\n",
      "185 cubed is 6331625\n",
      "186 cubed is 6434856\n",
      "187 cubed is 6539203\n",
      "188 cubed is 6644672\n",
      "189 cubed is 6751269\n",
      "190 cubed is 6859000\n",
      "191 cubed is 6967871\n",
      "192 cubed is 7077888\n",
      "193 cubed is 7189057\n",
      "194 cubed is 7301384\n",
      "195 cubed is 7414875\n",
      "196 cubed is 7529536\n",
      "197 cubed is 7645373\n",
      "198 cubed is 7762392\n",
      "199 cubed is 7880599\n",
      "200 cubed is 8000000\n",
      "201 cubed is 8120601\n",
      "202 cubed is 8242408\n",
      "203 cubed is 8365427\n",
      "204 cubed is 8489664\n",
      "205 cubed is 8615125\n",
      "206 cubed is 8741816\n",
      "207 cubed is 8869743\n",
      "208 cubed is 8998912\n",
      "209 cubed is 9129329\n",
      "210 cubed is 9261000\n",
      "211 cubed is 9393931\n",
      "212 cubed is 9528128\n",
      "213 cubed is 9663597\n",
      "214 cubed is 9800344\n",
      "215 cubed is 9938375\n",
      "216 cubed is 10077696\n",
      "217 cubed is 10218313\n",
      "218 cubed is 10360232\n",
      "219 cubed is 10503459\n",
      "220 cubed is 10648000\n",
      "221 cubed is 10793861\n",
      "222 cubed is 10941048\n",
      "223 cubed is 11089567\n",
      "224 cubed is 11239424\n",
      "225 cubed is 11390625\n",
      "226 cubed is 11543176\n",
      "227 cubed is 11697083\n",
      "228 cubed is 11852352\n",
      "229 cubed is 12008989\n",
      "230 cubed is 12167000\n",
      "231 cubed is 12326391\n",
      "232 cubed is 12487168\n",
      "233 cubed is 12649337\n",
      "234 cubed is 12812904\n",
      "235 cubed is 12977875\n",
      "236 cubed is 13144256\n",
      "237 cubed is 13312053\n",
      "238 cubed is 13481272\n",
      "239 cubed is 13651919\n",
      "240 cubed is 13824000\n",
      "241 cubed is 13997521\n",
      "242 cubed is 14172488\n",
      "243 cubed is 14348907\n",
      "244 cubed is 14526784\n",
      "245 cubed is 14706125\n",
      "246 cubed is 14886936\n",
      "247 cubed is 15069223\n",
      "248 cubed is 15252992\n",
      "249 cubed is 15438249\n",
      "250 cubed is 15625000\n",
      "251 cubed is 15813251\n",
      "252 cubed is 16003008\n",
      "253 cubed is 16194277\n",
      "254 cubed is 16387064\n",
      "255 cubed is 16581375\n",
      "256 cubed is 16777216\n",
      "257 cubed is 16974593\n",
      "258 cubed is 17173512\n",
      "259 cubed is 17373979\n",
      "260 cubed is 17576000\n",
      "261 cubed is 17779581\n",
      "262 cubed is 17984728\n",
      "263 cubed is 18191447\n",
      "264 cubed is 18399744\n",
      "265 cubed is 18609625\n",
      "266 cubed is 18821096\n",
      "267 cubed is 19034163\n",
      "268 cubed is 19248832\n",
      "269 cubed is 19465109\n",
      "270 cubed is 19683000\n",
      "271 cubed is 19902511\n",
      "272 cubed is 20123648\n",
      "273 cubed is 20346417\n",
      "274 cubed is 20570824\n",
      "275 cubed is 20796875\n",
      "276 cubed is 21024576\n",
      "277 cubed is 21253933\n",
      "278 cubed is 21484952\n",
      "279 cubed is 21717639\n",
      "280 cubed is 21952000\n",
      "281 cubed is 22188041\n",
      "282 cubed is 22425768\n",
      "283 cubed is 22665187\n",
      "284 cubed is 22906304\n",
      "285 cubed is 23149125\n",
      "286 cubed is 23393656\n",
      "287 cubed is 23639903\n",
      "288 cubed is 23887872\n",
      "289 cubed is 24137569\n",
      "290 cubed is 24389000\n",
      "291 cubed is 24642171\n",
      "292 cubed is 24897088\n",
      "293 cubed is 25153757\n",
      "294 cubed is 25412184\n",
      "295 cubed is 25672375\n",
      "296 cubed is 25934336\n",
      "297 cubed is 26198073\n",
      "298 cubed is 26463592\n",
      "299 cubed is 26730899\n",
      "300 cubed is 27000000\n",
      "301 cubed is 27270901\n",
      "302 cubed is 27543608\n",
      "303 cubed is 27818127\n",
      "304 cubed is 28094464\n",
      "305 cubed is 28372625\n",
      "306 cubed is 28652616\n",
      "307 cubed is 28934443\n",
      "308 cubed is 29218112\n",
      "309 cubed is 29503629\n",
      "310 cubed is 29791000\n",
      "311 cubed is 30080231\n",
      "312 cubed is 30371328\n",
      "313 cubed is 30664297\n",
      "314 cubed is 30959144\n",
      "315 cubed is 31255875\n",
      "316 cubed is 31554496\n",
      "317 cubed is 31855013\n",
      "318 cubed is 32157432\n",
      "319 cubed is 32461759\n",
      "320 cubed is 32768000\n",
      "321 cubed is 33076161\n",
      "322 cubed is 33386248\n",
      "323 cubed is 33698267\n",
      "324 cubed is 34012224\n",
      "325 cubed is 34328125\n",
      "326 cubed is 34645976\n",
      "327 cubed is 34965783\n",
      "328 cubed is 35287552\n",
      "329 cubed is 35611289\n",
      "330 cubed is 35937000\n",
      "331 cubed is 36264691\n",
      "332 cubed is 36594368\n",
      "333 cubed is 36926037\n",
      "334 cubed is 37259704\n",
      "335 cubed is 37595375\n",
      "336 cubed is 37933056\n",
      "337 cubed is 38272753\n",
      "338 cubed is 38614472\n",
      "339 cubed is 38958219\n",
      "340 cubed is 39304000\n",
      "341 cubed is 39651821\n",
      "342 cubed is 40001688\n",
      "343 cubed is 40353607\n",
      "344 cubed is 40707584\n",
      "345 cubed is 41063625\n",
      "346 cubed is 41421736\n",
      "347 cubed is 41781923\n",
      "348 cubed is 42144192\n",
      "349 cubed is 42508549\n",
      "350 cubed is 42875000\n",
      "351 cubed is 43243551\n",
      "352 cubed is 43614208\n",
      "353 cubed is 43986977\n",
      "354 cubed is 44361864\n",
      "355 cubed is 44738875\n",
      "356 cubed is 45118016\n",
      "357 cubed is 45499293\n",
      "358 cubed is 45882712\n",
      "359 cubed is 46268279\n",
      "360 cubed is 46656000\n",
      "361 cubed is 47045881\n",
      "362 cubed is 47437928\n",
      "363 cubed is 47832147\n",
      "364 cubed is 48228544\n",
      "365 cubed is 48627125\n",
      "366 cubed is 49027896\n",
      "367 cubed is 49430863\n",
      "368 cubed is 49836032\n",
      "369 cubed is 50243409\n",
      "370 cubed is 50653000\n",
      "371 cubed is 51064811\n",
      "372 cubed is 51478848\n",
      "373 cubed is 51895117\n",
      "374 cubed is 52313624\n",
      "375 cubed is 52734375\n",
      "376 cubed is 53157376\n",
      "377 cubed is 53582633\n",
      "378 cubed is 54010152\n",
      "379 cubed is 54439939\n",
      "380 cubed is 54872000\n",
      "381 cubed is 55306341\n",
      "382 cubed is 55742968\n",
      "383 cubed is 56181887\n",
      "384 cubed is 56623104\n",
      "385 cubed is 57066625\n",
      "386 cubed is 57512456\n",
      "387 cubed is 57960603\n",
      "388 cubed is 58411072\n",
      "389 cubed is 58863869\n",
      "390 cubed is 59319000\n",
      "391 cubed is 59776471\n",
      "392 cubed is 60236288\n",
      "393 cubed is 60698457\n",
      "394 cubed is 61162984\n",
      "395 cubed is 61629875\n",
      "396 cubed is 62099136\n",
      "397 cubed is 62570773\n",
      "398 cubed is 63044792\n",
      "399 cubed is 63521199\n",
      "400 cubed is 64000000\n",
      "401 cubed is 64481201\n",
      "402 cubed is 64964808\n",
      "403 cubed is 65450827\n",
      "404 cubed is 65939264\n",
      "405 cubed is 66430125\n",
      "406 cubed is 66923416\n",
      "407 cubed is 67419143\n",
      "408 cubed is 67917312\n",
      "409 cubed is 68417929\n",
      "410 cubed is 68921000\n",
      "411 cubed is 69426531\n",
      "412 cubed is 69934528\n",
      "413 cubed is 70444997\n",
      "414 cubed is 70957944\n",
      "415 cubed is 71473375\n",
      "416 cubed is 71991296\n",
      "417 cubed is 72511713\n",
      "418 cubed is 73034632\n",
      "419 cubed is 73560059\n",
      "420 cubed is 74088000\n",
      "421 cubed is 74618461\n",
      "422 cubed is 75151448\n",
      "423 cubed is 75686967\n",
      "424 cubed is 76225024\n",
      "425 cubed is 76765625\n",
      "426 cubed is 77308776\n",
      "427 cubed is 77854483\n",
      "428 cubed is 78402752\n",
      "429 cubed is 78953589\n",
      "430 cubed is 79507000\n",
      "431 cubed is 80062991\n",
      "432 cubed is 80621568\n",
      "433 cubed is 81182737\n",
      "434 cubed is 81746504\n",
      "435 cubed is 82312875\n",
      "436 cubed is 82881856\n",
      "437 cubed is 83453453\n",
      "438 cubed is 84027672\n",
      "439 cubed is 84604519\n",
      "440 cubed is 85184000\n",
      "441 cubed is 85766121\n",
      "442 cubed is 86350888\n",
      "443 cubed is 86938307\n",
      "444 cubed is 87528384\n",
      "445 cubed is 88121125\n",
      "446 cubed is 88716536\n",
      "447 cubed is 89314623\n",
      "448 cubed is 89915392\n",
      "449 cubed is 90518849\n",
      "450 cubed is 91125000\n",
      "451 cubed is 91733851\n",
      "452 cubed is 92345408\n",
      "453 cubed is 92959677\n",
      "454 cubed is 93576664\n",
      "455 cubed is 94196375\n",
      "456 cubed is 94818816\n",
      "457 cubed is 95443993\n",
      "458 cubed is 96071912\n",
      "459 cubed is 96702579\n",
      "460 cubed is 97336000\n",
      "461 cubed is 97972181\n",
      "462 cubed is 98611128\n",
      "463 cubed is 99252847\n",
      "464 cubed is 99897344\n",
      "465 cubed is 100544625\n",
      "466 cubed is 101194696\n",
      "467 cubed is 101847563\n",
      "468 cubed is 102503232\n",
      "469 cubed is 103161709\n",
      "470 cubed is 103823000\n",
      "471 cubed is 104487111\n",
      "472 cubed is 105154048\n",
      "473 cubed is 105823817\n",
      "474 cubed is 106496424\n",
      "475 cubed is 107171875\n",
      "476 cubed is 107850176\n",
      "477 cubed is 108531333\n",
      "478 cubed is 109215352\n",
      "479 cubed is 109902239\n",
      "480 cubed is 110592000\n",
      "481 cubed is 111284641\n",
      "482 cubed is 111980168\n",
      "483 cubed is 112678587\n",
      "484 cubed is 113379904\n",
      "485 cubed is 114084125\n",
      "486 cubed is 114791256\n",
      "487 cubed is 115501303\n",
      "488 cubed is 116214272\n",
      "489 cubed is 116930169\n",
      "490 cubed is 117649000\n",
      "491 cubed is 118370771\n",
      "492 cubed is 119095488\n",
      "493 cubed is 119823157\n",
      "494 cubed is 120553784\n",
      "495 cubed is 121287375\n",
      "496 cubed is 122023936\n",
      "497 cubed is 122763473\n",
      "498 cubed is 123505992\n",
      "499 cubed is 124251499\n",
      "500 cubed is 125000000\n",
      "501 cubed is 125751501\n",
      "502 cubed is 126506008\n",
      "503 cubed is 127263527\n",
      "504 cubed is 128024064\n",
      "505 cubed is 128787625\n",
      "506 cubed is 129554216\n",
      "507 cubed is 130323843\n",
      "508 cubed is 131096512\n",
      "509 cubed is 131872229\n",
      "510 cubed is 132651000\n",
      "511 cubed is 133432831\n",
      "512 cubed is 134217728\n",
      "513 cubed is 135005697\n",
      "514 cubed is 135796744\n",
      "515 cubed is 136590875\n",
      "516 cubed is 137388096\n",
      "517 cubed is 138188413\n",
      "518 cubed is 138991832\n",
      "519 cubed is 139798359\n",
      "520 cubed is 140608000\n",
      "521 cubed is 141420761\n",
      "522 cubed is 142236648\n",
      "523 cubed is 143055667\n",
      "524 cubed is 143877824\n",
      "525 cubed is 144703125\n",
      "526 cubed is 145531576\n",
      "527 cubed is 146363183\n",
      "528 cubed is 147197952\n",
      "529 cubed is 148035889\n",
      "530 cubed is 148877000\n",
      "531 cubed is 149721291\n",
      "532 cubed is 150568768\n",
      "533 cubed is 151419437\n",
      "534 cubed is 152273304\n",
      "535 cubed is 153130375\n",
      "536 cubed is 153990656\n",
      "537 cubed is 154854153\n",
      "538 cubed is 155720872\n",
      "539 cubed is 156590819\n",
      "540 cubed is 157464000\n",
      "541 cubed is 158340421\n",
      "542 cubed is 159220088\n",
      "543 cubed is 160103007\n",
      "544 cubed is 160989184\n",
      "545 cubed is 161878625\n",
      "546 cubed is 162771336\n",
      "547 cubed is 163667323\n",
      "548 cubed is 164566592\n",
      "549 cubed is 165469149\n",
      "550 cubed is 166375000\n",
      "551 cubed is 167284151\n",
      "552 cubed is 168196608\n",
      "553 cubed is 169112377\n",
      "554 cubed is 170031464\n",
      "555 cubed is 170953875\n",
      "556 cubed is 171879616\n",
      "557 cubed is 172808693\n",
      "558 cubed is 173741112\n",
      "559 cubed is 174676879\n",
      "560 cubed is 175616000\n",
      "561 cubed is 176558481\n",
      "562 cubed is 177504328\n",
      "563 cubed is 178453547\n",
      "564 cubed is 179406144\n",
      "565 cubed is 180362125\n",
      "566 cubed is 181321496\n",
      "567 cubed is 182284263\n",
      "568 cubed is 183250432\n",
      "569 cubed is 184220009\n",
      "570 cubed is 185193000\n",
      "571 cubed is 186169411\n",
      "572 cubed is 187149248\n",
      "573 cubed is 188132517\n",
      "574 cubed is 189119224\n",
      "575 cubed is 190109375\n",
      "576 cubed is 191102976\n",
      "577 cubed is 192100033\n",
      "578 cubed is 193100552\n",
      "579 cubed is 194104539\n",
      "580 cubed is 195112000\n",
      "581 cubed is 196122941\n",
      "582 cubed is 197137368\n",
      "583 cubed is 198155287\n",
      "584 cubed is 199176704\n",
      "585 cubed is 200201625\n",
      "586 cubed is 201230056\n",
      "587 cubed is 202262003\n",
      "588 cubed is 203297472\n",
      "589 cubed is 204336469\n",
      "590 cubed is 205379000\n",
      "591 cubed is 206425071\n",
      "592 cubed is 207474688\n",
      "593 cubed is 208527857\n",
      "594 cubed is 209584584\n",
      "595 cubed is 210644875\n",
      "596 cubed is 211708736\n",
      "597 cubed is 212776173\n",
      "598 cubed is 213847192\n",
      "599 cubed is 214921799\n",
      "600 cubed is 216000000\n",
      "601 cubed is 217081801\n",
      "602 cubed is 218167208\n",
      "603 cubed is 219256227\n",
      "604 cubed is 220348864\n",
      "605 cubed is 221445125\n",
      "606 cubed is 222545016\n",
      "607 cubed is 223648543\n",
      "608 cubed is 224755712\n",
      "609 cubed is 225866529\n",
      "610 cubed is 226981000\n",
      "611 cubed is 228099131\n",
      "612 cubed is 229220928\n",
      "613 cubed is 230346397\n",
      "614 cubed is 231475544\n",
      "615 cubed is 232608375\n",
      "616 cubed is 233744896\n",
      "617 cubed is 234885113\n",
      "618 cubed is 236029032\n",
      "619 cubed is 237176659\n",
      "620 cubed is 238328000\n",
      "621 cubed is 239483061\n",
      "622 cubed is 240641848\n",
      "623 cubed is 241804367\n",
      "624 cubed is 242970624\n",
      "625 cubed is 244140625\n",
      "626 cubed is 245314376\n",
      "627 cubed is 246491883\n",
      "628 cubed is 247673152\n",
      "629 cubed is 248858189\n",
      "630 cubed is 250047000\n",
      "631 cubed is 251239591\n",
      "632 cubed is 252435968\n",
      "633 cubed is 253636137\n",
      "634 cubed is 254840104\n",
      "635 cubed is 256047875\n",
      "636 cubed is 257259456\n",
      "637 cubed is 258474853\n",
      "638 cubed is 259694072\n",
      "639 cubed is 260917119\n",
      "640 cubed is 262144000\n",
      "641 cubed is 263374721\n",
      "642 cubed is 264609288\n",
      "643 cubed is 265847707\n",
      "644 cubed is 267089984\n",
      "645 cubed is 268336125\n",
      "646 cubed is 269586136\n",
      "647 cubed is 270840023\n",
      "648 cubed is 272097792\n",
      "649 cubed is 273359449\n",
      "650 cubed is 274625000\n",
      "651 cubed is 275894451\n",
      "652 cubed is 277167808\n",
      "653 cubed is 278445077\n",
      "654 cubed is 279726264\n",
      "655 cubed is 281011375\n",
      "656 cubed is 282300416\n",
      "657 cubed is 283593393\n",
      "658 cubed is 284890312\n",
      "659 cubed is 286191179\n",
      "660 cubed is 287496000\n",
      "661 cubed is 288804781\n",
      "662 cubed is 290117528\n",
      "663 cubed is 291434247\n",
      "664 cubed is 292754944\n",
      "665 cubed is 294079625\n",
      "666 cubed is 295408296\n",
      "667 cubed is 296740963\n",
      "668 cubed is 298077632\n",
      "669 cubed is 299418309\n",
      "670 cubed is 300763000\n",
      "671 cubed is 302111711\n",
      "672 cubed is 303464448\n",
      "673 cubed is 304821217\n",
      "674 cubed is 306182024\n",
      "675 cubed is 307546875\n",
      "676 cubed is 308915776\n",
      "677 cubed is 310288733\n",
      "678 cubed is 311665752\n",
      "679 cubed is 313046839\n",
      "680 cubed is 314432000\n",
      "681 cubed is 315821241\n",
      "682 cubed is 317214568\n",
      "683 cubed is 318611987\n",
      "684 cubed is 320013504\n",
      "685 cubed is 321419125\n",
      "686 cubed is 322828856\n",
      "687 cubed is 324242703\n",
      "688 cubed is 325660672\n",
      "689 cubed is 327082769\n",
      "690 cubed is 328509000\n",
      "691 cubed is 329939371\n",
      "692 cubed is 331373888\n",
      "693 cubed is 332812557\n",
      "694 cubed is 334255384\n",
      "695 cubed is 335702375\n",
      "696 cubed is 337153536\n",
      "697 cubed is 338608873\n",
      "698 cubed is 340068392\n",
      "699 cubed is 341532099\n",
      "700 cubed is 343000000\n",
      "701 cubed is 344472101\n",
      "702 cubed is 345948408\n",
      "703 cubed is 347428927\n",
      "704 cubed is 348913664\n",
      "705 cubed is 350402625\n",
      "706 cubed is 351895816\n",
      "707 cubed is 353393243\n",
      "708 cubed is 354894912\n",
      "709 cubed is 356400829\n",
      "710 cubed is 357911000\n",
      "711 cubed is 359425431\n",
      "712 cubed is 360944128\n",
      "713 cubed is 362467097\n",
      "714 cubed is 363994344\n",
      "715 cubed is 365525875\n",
      "716 cubed is 367061696\n",
      "717 cubed is 368601813\n",
      "718 cubed is 370146232\n",
      "719 cubed is 371694959\n",
      "720 cubed is 373248000\n",
      "721 cubed is 374805361\n",
      "722 cubed is 376367048\n",
      "723 cubed is 377933067\n",
      "724 cubed is 379503424\n",
      "725 cubed is 381078125\n",
      "726 cubed is 382657176\n",
      "727 cubed is 384240583\n",
      "728 cubed is 385828352\n",
      "729 cubed is 387420489\n",
      "730 cubed is 389017000\n",
      "731 cubed is 390617891\n",
      "732 cubed is 392223168\n",
      "733 cubed is 393832837\n",
      "734 cubed is 395446904\n",
      "735 cubed is 397065375\n",
      "736 cubed is 398688256\n",
      "737 cubed is 400315553\n",
      "738 cubed is 401947272\n",
      "739 cubed is 403583419\n",
      "740 cubed is 405224000\n",
      "741 cubed is 406869021\n",
      "742 cubed is 408518488\n",
      "743 cubed is 410172407\n",
      "744 cubed is 411830784\n",
      "745 cubed is 413493625\n",
      "746 cubed is 415160936\n",
      "747 cubed is 416832723\n",
      "748 cubed is 418508992\n",
      "749 cubed is 420189749\n",
      "750 cubed is 421875000\n",
      "751 cubed is 423564751\n",
      "752 cubed is 425259008\n",
      "753 cubed is 426957777\n",
      "754 cubed is 428661064\n",
      "755 cubed is 430368875\n",
      "756 cubed is 432081216\n",
      "757 cubed is 433798093\n",
      "758 cubed is 435519512\n",
      "759 cubed is 437245479\n",
      "760 cubed is 438976000\n",
      "761 cubed is 440711081\n",
      "762 cubed is 442450728\n",
      "763 cubed is 444194947\n",
      "764 cubed is 445943744\n",
      "765 cubed is 447697125\n",
      "766 cubed is 449455096\n",
      "767 cubed is 451217663\n",
      "768 cubed is 452984832\n",
      "769 cubed is 454756609\n",
      "770 cubed is 456533000\n",
      "771 cubed is 458314011\n",
      "772 cubed is 460099648\n",
      "773 cubed is 461889917\n",
      "774 cubed is 463684824\n",
      "775 cubed is 465484375\n",
      "776 cubed is 467288576\n",
      "777 cubed is 469097433\n",
      "778 cubed is 470910952\n",
      "779 cubed is 472729139\n",
      "780 cubed is 474552000\n",
      "781 cubed is 476379541\n",
      "782 cubed is 478211768\n",
      "783 cubed is 480048687\n",
      "784 cubed is 481890304\n",
      "785 cubed is 483736625\n",
      "786 cubed is 485587656\n",
      "787 cubed is 487443403\n",
      "788 cubed is 489303872\n",
      "789 cubed is 491169069\n",
      "790 cubed is 493039000\n",
      "791 cubed is 494913671\n",
      "792 cubed is 496793088\n",
      "793 cubed is 498677257\n",
      "794 cubed is 500566184\n",
      "795 cubed is 502459875\n",
      "796 cubed is 504358336\n",
      "797 cubed is 506261573\n",
      "798 cubed is 508169592\n",
      "799 cubed is 510082399\n",
      "800 cubed is 512000000\n",
      "801 cubed is 513922401\n",
      "802 cubed is 515849608\n",
      "803 cubed is 517781627\n",
      "804 cubed is 519718464\n",
      "805 cubed is 521660125\n",
      "806 cubed is 523606616\n",
      "807 cubed is 525557943\n",
      "808 cubed is 527514112\n",
      "809 cubed is 529475129\n",
      "810 cubed is 531441000\n",
      "811 cubed is 533411731\n",
      "812 cubed is 535387328\n",
      "813 cubed is 537367797\n",
      "814 cubed is 539353144\n",
      "815 cubed is 541343375\n",
      "816 cubed is 543338496\n",
      "817 cubed is 545338513\n",
      "818 cubed is 547343432\n",
      "819 cubed is 549353259\n",
      "820 cubed is 551368000\n",
      "821 cubed is 553387661\n",
      "822 cubed is 555412248\n",
      "823 cubed is 557441767\n",
      "824 cubed is 559476224\n",
      "825 cubed is 561515625\n",
      "826 cubed is 563559976\n",
      "827 cubed is 565609283\n",
      "828 cubed is 567663552\n",
      "829 cubed is 569722789\n",
      "830 cubed is 571787000\n",
      "831 cubed is 573856191\n",
      "832 cubed is 575930368\n",
      "833 cubed is 578009537\n",
      "834 cubed is 580093704\n",
      "835 cubed is 582182875\n",
      "836 cubed is 584277056\n",
      "837 cubed is 586376253\n",
      "838 cubed is 588480472\n",
      "839 cubed is 590589719\n",
      "840 cubed is 592704000\n",
      "841 cubed is 594823321\n",
      "842 cubed is 596947688\n",
      "843 cubed is 599077107\n",
      "844 cubed is 601211584\n",
      "845 cubed is 603351125\n",
      "846 cubed is 605495736\n",
      "847 cubed is 607645423\n",
      "848 cubed is 609800192\n",
      "849 cubed is 611960049\n",
      "850 cubed is 614125000\n",
      "851 cubed is 616295051\n",
      "852 cubed is 618470208\n",
      "853 cubed is 620650477\n",
      "854 cubed is 622835864\n",
      "855 cubed is 625026375\n",
      "856 cubed is 627222016\n",
      "857 cubed is 629422793\n",
      "858 cubed is 631628712\n",
      "859 cubed is 633839779\n",
      "860 cubed is 636056000\n",
      "861 cubed is 638277381\n",
      "862 cubed is 640503928\n",
      "863 cubed is 642735647\n",
      "864 cubed is 644972544\n",
      "865 cubed is 647214625\n",
      "866 cubed is 649461896\n",
      "867 cubed is 651714363\n",
      "868 cubed is 653972032\n",
      "869 cubed is 656234909\n",
      "870 cubed is 658503000\n",
      "871 cubed is 660776311\n",
      "872 cubed is 663054848\n",
      "873 cubed is 665338617\n",
      "874 cubed is 667627624\n",
      "875 cubed is 669921875\n",
      "876 cubed is 672221376\n",
      "877 cubed is 674526133\n",
      "878 cubed is 676836152\n",
      "879 cubed is 679151439\n",
      "880 cubed is 681472000\n",
      "881 cubed is 683797841\n",
      "882 cubed is 686128968\n",
      "883 cubed is 688465387\n",
      "884 cubed is 690807104\n",
      "885 cubed is 693154125\n",
      "886 cubed is 695506456\n",
      "887 cubed is 697864103\n",
      "888 cubed is 700227072\n",
      "889 cubed is 702595369\n",
      "890 cubed is 704969000\n",
      "891 cubed is 707347971\n",
      "892 cubed is 709732288\n",
      "893 cubed is 712121957\n",
      "894 cubed is 714516984\n",
      "895 cubed is 716917375\n",
      "896 cubed is 719323136\n",
      "897 cubed is 721734273\n",
      "898 cubed is 724150792\n",
      "899 cubed is 726572699\n",
      "900 cubed is 729000000\n",
      "901 cubed is 731432701\n",
      "902 cubed is 733870808\n",
      "903 cubed is 736314327\n",
      "904 cubed is 738763264\n",
      "905 cubed is 741217625\n",
      "906 cubed is 743677416\n",
      "907 cubed is 746142643\n",
      "908 cubed is 748613312\n",
      "909 cubed is 751089429\n",
      "910 cubed is 753571000\n",
      "911 cubed is 756058031\n",
      "912 cubed is 758550528\n",
      "913 cubed is 761048497\n",
      "914 cubed is 763551944\n",
      "915 cubed is 766060875\n",
      "916 cubed is 768575296\n",
      "917 cubed is 771095213\n",
      "918 cubed is 773620632\n",
      "919 cubed is 776151559\n",
      "920 cubed is 778688000\n",
      "921 cubed is 781229961\n",
      "922 cubed is 783777448\n",
      "923 cubed is 786330467\n",
      "924 cubed is 788889024\n",
      "925 cubed is 791453125\n",
      "926 cubed is 794022776\n",
      "927 cubed is 796597983\n",
      "928 cubed is 799178752\n",
      "929 cubed is 801765089\n",
      "930 cubed is 804357000\n",
      "931 cubed is 806954491\n",
      "932 cubed is 809557568\n",
      "933 cubed is 812166237\n",
      "934 cubed is 814780504\n",
      "935 cubed is 817400375\n",
      "936 cubed is 820025856\n",
      "937 cubed is 822656953\n",
      "938 cubed is 825293672\n",
      "939 cubed is 827936019\n",
      "940 cubed is 830584000\n",
      "941 cubed is 833237621\n",
      "942 cubed is 835896888\n",
      "943 cubed is 838561807\n",
      "944 cubed is 841232384\n",
      "945 cubed is 843908625\n",
      "946 cubed is 846590536\n",
      "947 cubed is 849278123\n",
      "948 cubed is 851971392\n",
      "949 cubed is 854670349\n",
      "950 cubed is 857375000\n",
      "951 cubed is 860085351\n",
      "952 cubed is 862801408\n",
      "953 cubed is 865523177\n",
      "954 cubed is 868250664\n",
      "955 cubed is 870983875\n",
      "956 cubed is 873722816\n",
      "957 cubed is 876467493\n",
      "958 cubed is 879217912\n",
      "959 cubed is 881974079\n",
      "960 cubed is 884736000\n",
      "961 cubed is 887503681\n",
      "962 cubed is 890277128\n",
      "963 cubed is 893056347\n",
      "964 cubed is 895841344\n",
      "965 cubed is 898632125\n",
      "966 cubed is 901428696\n",
      "967 cubed is 904231063\n",
      "968 cubed is 907039232\n",
      "969 cubed is 909853209\n",
      "970 cubed is 912673000\n",
      "971 cubed is 915498611\n",
      "972 cubed is 918330048\n",
      "973 cubed is 921167317\n",
      "974 cubed is 924010424\n",
      "975 cubed is 926859375\n",
      "976 cubed is 929714176\n",
      "977 cubed is 932574833\n",
      "978 cubed is 935441352\n",
      "979 cubed is 938313739\n",
      "980 cubed is 941192000\n",
      "981 cubed is 944076141\n",
      "982 cubed is 946966168\n",
      "983 cubed is 949862087\n",
      "984 cubed is 952763904\n",
      "985 cubed is 955671625\n",
      "986 cubed is 958585256\n",
      "987 cubed is 961504803\n",
      "988 cubed is 964430272\n",
      "989 cubed is 967361669\n",
      "990 cubed is 970299000\n",
      "991 cubed is 973242271\n",
      "992 cubed is 976191488\n",
      "993 cubed is 979146657\n",
      "994 cubed is 982107784\n",
      "995 cubed is 985074875\n",
      "996 cubed is 988047936\n",
      "997 cubed is 991026973\n",
      "998 cubed is 994011992\n",
      "999 cubed is 997002999\n",
      "1000 cubed is 1000000000\n"
     ]
    }
   ],
   "source": [
    "for i in range(1, 1001):\n",
    "    print(\"{} cubed is {}\".format(i, i**3))"
   ]
  },
  {
   "cell_type": "markdown",
   "metadata": {},
   "source": [
    "## Exercise #2 <br>\n",
    "<p>Get first prime numbers up to 100</p>"
   ]
  },
  {
   "cell_type": "code",
   "execution_count": 159,
   "metadata": {},
   "outputs": [
    {
     "name": "stdout",
     "output_type": "stream",
     "text": [
      "1 2 3 5 7 11 13 17 19 23 29 31 37 41 43 47 53 59 61 67 71 73 79 83 89 97 "
     ]
    }
   ],
   "source": [
    "# HINT::\n",
    "# An else after an if runs if the if didn’t\n",
    "# An else after a for runs if the for didn’t break\n",
    "\n",
    "n = 1\n",
    "while n <= 100:\n",
    "    i = 2\n",
    "    while i <= n // 2:\n",
    "        if n % i == 0:\n",
    "            break\n",
    "        i += 1\n",
    "    if i > n // 2:\n",
    "        print(n, end=' ')\n",
    "    n += 1"
   ]
  },
  {
   "cell_type": "markdown",
   "metadata": {},
   "source": [
    "# Exercise 3 <br>\n",
    "<p>Take in a users input for their age, if they are younger than 18 print kids, if they're 18 to 65 print adults, else print seniors</p>"
   ]
  },
  {
   "cell_type": "code",
   "execution_count": 129,
   "metadata": {},
   "outputs": [
    {
     "name": "stdout",
     "output_type": "stream",
     "text": [
      "what is your age? 62\n",
      "adults\n"
     ]
    }
   ],
   "source": [
    "age = input(\"what is your age? \")\n",
    "age = int(age) \n",
    "if age < 18: \n",
    "    print('kids') \n",
    "elif age >= 18 and age < 65: \n",
    "    print('adults') \n",
    "else: \n",
    "    print('seniors')"
   ]
  }
 ],
 "metadata": {
  "kernelspec": {
   "display_name": "Python 3 (ipykernel)",
   "language": "python",
   "name": "python3"
  },
  "language_info": {
   "codemirror_mode": {
    "name": "ipython",
    "version": 3
   },
   "file_extension": ".py",
   "mimetype": "text/x-python",
   "name": "python",
   "nbconvert_exporter": "python",
   "pygments_lexer": "ipython3",
   "version": "3.10.9"
  }
 },
 "nbformat": 4,
 "nbformat_minor": 2
}
